{
 "cells": [
  {
   "attachments": {},
   "cell_type": "markdown",
   "metadata": {},
   "source": [
    "## This notebook retrieves 2-meter temperature data from the High Resolution Rapid Refresh modeling system.\n",
    "It is used to fetch 2mT for comparison to LST."
   ]
  },
  {
   "attachments": {},
   "cell_type": "markdown",
   "metadata": {},
   "source": [
    "We use the Herbie library to access HRRR data.\n",
    "https://herbie.readthedocs.io/en/latest/index.html\n",
    "\n",
    "First install HErbie using conda:\n",
    ">>conda install -c conda-forge herbie-data\n",
    "\n",
    "Check the settings especially for file download location:\n",
    "\n",
    "Some default settings are set in the config.toml file. This \n",
    "file is automatically created the first time you import a \n",
    "Herbie module and is located at \n",
    "    ${HOME}/.config/herbie/config.toml \n",
    "The configuration file is written in TOML format."
   ]
  },
  {
   "cell_type": "code",
   "execution_count": 1,
   "metadata": {},
   "outputs": [
    {
     "name": "stdout",
     "output_type": "stream",
     "text": [
      " ╭─────────────────────────────────────────────────╮\n",
      " │ I'm building Herbie's default config file.      │\n",
      " ╰╥────────────────────────────────────────────────╯\n",
      " 👷🏻‍♂️\n",
      " ╭─────────────────────────────────────────────────╮\n",
      " │ You're ready to go.                             │\n",
      " │ You may edit the config file here:              │\n",
      " │ /Users/tylercruickshank/.config/herbie/config.toml   │\n",
      " ╰╥────────────────────────────────────────────────╯\n",
      " 👷🏻‍♂️\n"
     ]
    }
   ],
   "source": [
    "from herbie import Herbie"
   ]
  },
  {
   "cell_type": "code",
   "execution_count": null,
   "metadata": {},
   "outputs": [],
   "source": [
    "# Set up a Herbie object .\n",
    "H = Herbie(\n",
    "    \"2021-08-01 00:00\",  # model run date 2021-08-01T00:00:00Z\n",
    "    model=\"hrrr\",  # model name\n",
    "    product=\"sfc\",  # model product name (model dependent)\n",
    "    fxx=0,  # forecast lead time\n",
    ")\n",
    "\n",
    "H.grib\n",
    "\n",
    "# Get an inventory of all variables available.\n",
    "H.inventory()\n",
    "\n",
    "# We can search for certain variables.\n",
    "# All fields at 2-m above ground level\n",
    "H.inventory(searchString=\":2 m above ground\")\n",
    "\n",
    "# Get 2mT.\n",
    "H.inventory(searchString=\":TMP:2 m\")\n",
    "\n",
    "# Download data and read with xarray.\n",
    "ds = H.xarray(\":TMP:2 m\", remove_grib=False)\n",
    "ds\n",
    "\n",
    "# Plot\n",
    "ds.t2m.plot()"
   ]
  },
  {
   "attachments": {},
   "cell_type": "markdown",
   "metadata": {},
   "source": [
    "Now we'll get multiple days of HRRR data.  \n",
    "We want daily 00z for the month of August 2021.\n",
    "We use FastHerbie to do ths."
   ]
  },
  {
   "cell_type": "code",
   "execution_count": null,
   "metadata": {},
   "outputs": [],
   "source": [
    "from herbie import FastHerbie\n",
    "import pandas as pd\n",
    "\n",
    "site_name = 'ames'\n",
    "lat = 42\n",
    "lon = -93.7\n",
    "start_date = \"2020-04-01 00:00\"\n",
    "\n",
    "# Create a range of dates\n",
    "DATES = pd.date_range(\n",
    "    start=start_date,\n",
    "    periods=29,\n",
    "    freq=\"1D\",\n",
    ")\n",
    "\n",
    "# Define forecast lead time (or analysis).\n",
    "fxx = range(0,1)\n",
    "\n",
    "# Make a FastHerbie Object.\n",
    "FH = FastHerbie(DATES, model=\"hrrr\", fxx=fxx)\n",
    "# The list of Herbie objects is stored in the objects property.\n",
    "FH.objects"
   ]
  },
  {
   "cell_type": "code",
   "execution_count": null,
   "metadata": {},
   "outputs": [],
   "source": [
    "# Read a subset of the data with xarray.\n",
    "ds = FH.xarray(\"TMP:2 m\", remove_grib=False)\n",
    "ds"
   ]
  },
  {
   "cell_type": "code",
   "execution_count": null,
   "metadata": {},
   "outputs": [],
   "source": [
    "# Get value nearest single point\n",
    "# -120.21102905273436,36.535019209789\n",
    "ds_point = ds.herbie.nearest_points(points=(lon, lat))\n",
    "ds_point.t2m.plot()"
   ]
  }
 ],
 "metadata": {
  "kernelspec": {
   "display_name": "hydrosat-analytics-python",
   "language": "python",
   "name": "python3"
  },
  "language_info": {
   "codemirror_mode": {
    "name": "ipython",
    "version": 3
   },
   "file_extension": ".py",
   "mimetype": "text/x-python",
   "name": "python",
   "nbconvert_exporter": "python",
   "pygments_lexer": "ipython3",
   "version": "3.9.16"
  },
  "orig_nbformat": 4,
  "vscode": {
   "interpreter": {
    "hash": "c428c4382b1d0ee97843e4690031f18f4829a91c93491b360193f55f23c651bb"
   }
  }
 },
 "nbformat": 4,
 "nbformat_minor": 2
}
